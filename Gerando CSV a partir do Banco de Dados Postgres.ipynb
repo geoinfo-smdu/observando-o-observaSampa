{
 "cells": [
  {
   "cell_type": "code",
   "execution_count": 1,
   "metadata": {},
   "outputs": [],
   "source": [
    "from sqlalchemy import create_engine"
   ]
  },
  {
   "cell_type": "code",
   "execution_count": 2,
   "metadata": {},
   "outputs": [],
   "source": [
    "from secrets import *"
   ]
  },
  {
   "cell_type": "code",
   "execution_count": 3,
   "metadata": {},
   "outputs": [],
   "source": [
    "import pandas as pd"
   ]
  },
  {
   "cell_type": "code",
   "execution_count": 4,
   "metadata": {},
   "outputs": [],
   "source": [
    "engine = create_engine(f'postgresql://{user}:{password}@{host}/{database}?options=-csearch_path=dbo,{schema}')"
   ]
  },
  {
   "cell_type": "code",
   "execution_count": 5,
   "metadata": {},
   "outputs": [
    {
     "name": "stdout",
     "output_type": "stream",
     "text": [
      "['variavel', 'variavel_indicador', 'parametro_sistema', 'regiao', 'tema', 'tipo_conteudo', 'tipo_situacao', 'fonte', 'tipo_unidade_medida', 'periodo', 'tipo_origem', 'tipo_periodo', 'variavel_resultado', 'auditoria_tabela', 'estatistica_acesso', 'conteudo', 'indicador', 'indicador_tema', 'nivel_regiao', 'indicador_resultado']\n"
     ]
    }
   ],
   "source": [
    "print (engine.table_names())"
   ]
  },
  {
   "cell_type": "code",
   "execution_count": 10,
   "metadata": {},
   "outputs": [
    {
     "data": {
      "text/plain": [
       "<sqlalchemy.engine.result.ResultProxy at 0x7f4462bafc10>"
      ]
     },
     "execution_count": 10,
     "metadata": {},
     "output_type": "execute_result"
    }
   ],
   "source": [
    "engine.execute(f\"COPY variavel TO '/tmp/variavel.csv' DELIMITER ',' CSV HEADER;\")"
   ]
  },
  {
   "cell_type": "code",
   "execution_count": 13,
   "metadata": {},
   "outputs": [
    {
     "name": "stdout",
     "output_type": "stream",
     "text": [
      "variavel 468\n",
      "variavel\n",
      "variavel_indicador 295\n",
      "variavel_indicador\n",
      "parametro_sistema 10\n",
      "parametro_sistema\n",
      "regiao 130\n",
      "regiao\n",
      "tema 29\n",
      "tema\n",
      "tipo_conteudo 2\n",
      "tipo_conteudo\n",
      "tipo_situacao 3\n",
      "tipo_situacao\n",
      "fonte 77\n",
      "fonte\n",
      "tipo_unidade_medida 2\n",
      "tipo_unidade_medida\n",
      "periodo 51\n",
      "periodo\n",
      "tipo_origem 3\n",
      "tipo_origem\n",
      "tipo_periodo 2\n",
      "tipo_periodo\n",
      "variavel_resultado 126372\n",
      "variavel_resultado\n",
      "auditoria_tabela 20020\n",
      "estatistica_acesso 0\n",
      "estatistica_acesso\n",
      "conteudo 97\n",
      "conteudo\n",
      "indicador 419\n",
      "indicador\n",
      "indicador_tema 877\n",
      "indicador_tema\n",
      "nivel_regiao 4\n",
      "nivel_regiao\n",
      "indicador_resultado 1531040\n",
      "indicador_resultado\n"
     ]
    }
   ],
   "source": [
    "for table in engine.table_names():\n",
    "    print(table, list(engine.execute(\"Select count(*) from \" + table))[0][0])\n",
    "    if table != 'auditoria_tabela':\n",
    "        df = pd.read_sql_table(table, engine)\n",
    "        df.to_csv(f'resultados/{table}.csv.gz', compression='gzip')\n",
    "        print(table)\n",
    "#     engine.execute(f\"COPY {table} TO '/tmp/{table}.csv' DELIMITER ',' CSV HEADER;\")"
   ]
  },
  {
   "cell_type": "code",
   "execution_count": null,
   "metadata": {},
   "outputs": [],
   "source": []
  },
  {
   "cell_type": "code",
   "execution_count": null,
   "metadata": {},
   "outputs": [],
   "source": []
  },
  {
   "cell_type": "code",
   "execution_count": null,
   "metadata": {},
   "outputs": [],
   "source": []
  },
  {
   "cell_type": "code",
   "execution_count": null,
   "metadata": {},
   "outputs": [],
   "source": []
  },
  {
   "cell_type": "code",
   "execution_count": null,
   "metadata": {},
   "outputs": [],
   "source": []
  }
 ],
 "metadata": {
  "kernelspec": {
   "display_name": "Python 3",
   "language": "python",
   "name": "python3"
  },
  "language_info": {
   "codemirror_mode": {
    "name": "ipython",
    "version": 3
   },
   "file_extension": ".py",
   "mimetype": "text/x-python",
   "name": "python",
   "nbconvert_exporter": "python",
   "pygments_lexer": "ipython3",
   "version": "3.8.2"
  }
 },
 "nbformat": 4,
 "nbformat_minor": 4
}
