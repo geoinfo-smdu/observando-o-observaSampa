{
 "cells": [
  {
   "cell_type": "code",
   "execution_count": 1,
   "metadata": {},
   "outputs": [],
   "source": [
    "from sqlalchemy import create_engine"
   ]
  },
  {
   "cell_type": "code",
   "execution_count": 2,
   "metadata": {},
   "outputs": [],
   "source": [
    "from secrets import *"
   ]
  },
  {
   "cell_type": "code",
   "execution_count": 3,
   "metadata": {},
   "outputs": [],
   "source": [
    "import pandas as pd"
   ]
  },
  {
   "cell_type": "code",
   "execution_count": 4,
   "metadata": {},
   "outputs": [],
   "source": [
    "engine = create_engine(f'postgresql://{user}:{password}@{host}/{database}?options=-csearch_path=dbo,{schema}')"
   ]
  },
  {
   "cell_type": "code",
   "execution_count": 5,
   "metadata": {},
   "outputs": [
    {
     "name": "stdout",
     "output_type": "stream",
     "text": [
      "['variavel', 'variavel_indicador', 'parametro_sistema', 'regiao', 'tema', 'tipo_conteudo', 'tipo_situacao', 'fonte', 'tipo_unidade_medida', 'periodo', 'tipo_origem', 'tipo_periodo', 'variavel_resultado', 'auditoria_tabela', 'estatistica_acesso', 'conteudo', 'indicador', 'indicador_tema', 'nivel_regiao', 'indicador_resultado']\n"
     ]
    }
   ],
   "source": [
    "print (engine.table_names())"
   ]
  },
  {
   "cell_type": "code",
   "execution_count": 10,
   "metadata": {},
   "outputs": [
    {
     "data": {
      "text/plain": [
       "<sqlalchemy.engine.result.ResultProxy at 0x7f4462bafc10>"
      ]
     },
     "execution_count": 10,
     "metadata": {},
     "output_type": "execute_result"
    }
   ],
   "source": [
    "engine.execute(f\"COPY variavel TO '/tmp/variavel.csv' DELIMITER ',' CSV HEADER;\")"
   ]
  },
  {
   "cell_type": "code",
   "execution_count": 12,
   "metadata": {},
   "outputs": [
    {
     "name": "stdout",
     "output_type": "stream",
     "text": [
      "variavel\n",
      "variavel_indicador\n",
      "parametro_sistema\n",
      "regiao\n",
      "tema\n",
      "tipo_conteudo\n",
      "tipo_situacao\n",
      "fonte\n",
      "tipo_unidade_medida\n",
      "periodo\n",
      "tipo_origem\n",
      "tipo_periodo\n",
      "variavel_resultado\n",
      "auditoria_tabela\n",
      "estatistica_acesso\n",
      "conteudo\n",
      "indicador\n",
      "indicador_tema\n",
      "nivel_regiao\n",
      "indicador_resultado\n"
     ]
    }
   ],
   "source": [
    "for table in engine.table_names():\n",
    "    print(table, list(engine.execute(\"Select count(*) from \" + table))[0][0])\n",
    "    if table != 'auditoria_tabela':\n",
    "        df = pd.read_sql_table(table, engine)\n",
    "        df.to_csv(f'resultados/{table}.csv.gz', compression='gzip')\n",
    "        print(table)\n",
    "#     engine.execute(f\"COPY {table} TO '/tmp/{table}.csv' DELIMITER ',' CSV HEADER;\")"
   ]
  },
  {
   "cell_type": "code",
   "execution_count": null,
   "metadata": {},
   "outputs": [],
   "source": []
  },
  {
   "cell_type": "code",
   "execution_count": null,
   "metadata": {},
   "outputs": [],
   "source": []
  },
  {
   "cell_type": "code",
   "execution_count": null,
   "metadata": {},
   "outputs": [],
   "source": []
  },
  {
   "cell_type": "code",
   "execution_count": null,
   "metadata": {},
   "outputs": [],
   "source": [
    "list(engine.execute(\"Select count(*) from variavel;\"))[0][0]"
   ]
  },
  {
   "cell_type": "code",
   "execution_count": null,
   "metadata": {},
   "outputs": [],
   "source": [
    "list(rs)[0][0]"
   ]
  },
  {
   "cell_type": "code",
   "execution_count": null,
   "metadata": {},
   "outputs": [],
   "source": [
    "list(map(lambda x: print(f'{x} --> {list(engine.execute(\"Select count(*) from \" + x))[0][0]}'), engine.table_names()))"
   ]
  },
  {
   "cell_type": "code",
   "execution_count": null,
   "metadata": {},
   "outputs": [],
   "source": [
    "import pandas as pd"
   ]
  },
  {
   "cell_type": "code",
   "execution_count": null,
   "metadata": {},
   "outputs": [],
   "source": [
    "df_variaveis = pd.read_sql_table('indicador_resultado', engine)"
   ]
  },
  {
   "cell_type": "code",
   "execution_count": null,
   "metadata": {},
   "outputs": [],
   "source": [
    "df_variaveis"
   ]
  },
  {
   "cell_type": "code",
   "execution_count": null,
   "metadata": {},
   "outputs": [],
   "source": []
  },
  {
   "cell_type": "code",
   "execution_count": null,
   "metadata": {},
   "outputs": [],
   "source": []
  }
 ],
 "metadata": {
  "kernelspec": {
   "display_name": "Python 3",
   "language": "python",
   "name": "python3"
  },
  "language_info": {
   "codemirror_mode": {
    "name": "ipython",
    "version": 3
   },
   "file_extension": ".py",
   "mimetype": "text/x-python",
   "name": "python",
   "nbconvert_exporter": "python",
   "pygments_lexer": "ipython3",
   "version": "3.8.2"
  }
 },
 "nbformat": 4,
 "nbformat_minor": 4
}
